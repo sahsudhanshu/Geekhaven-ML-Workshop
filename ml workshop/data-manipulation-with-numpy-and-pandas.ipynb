{
  "cells": [
    {
      "cell_type": "markdown",
      "metadata": {
        "id": "view-in-github",
        "colab_type": "text"
      },
      "source": [
        "<a href=\"https://colab.research.google.com/github/sahsudhanshu/Geekhaven-ML-Workshop/blob/main/ml%20workshop/data-manipulation-with-numpy-and-pandas.ipynb\" target=\"_parent\"><img src=\"https://colab.research.google.com/assets/colab-badge.svg\" alt=\"Open In Colab\"/></a>"
      ]
    },
    {
      "metadata": {
        "_uuid": "c81d4aaf3e9a98d4feccf94cdf87b8d8965c85b4",
        "id": "KLtrz2y9z1tC"
      },
      "cell_type": "markdown",
      "source": [
        "\\In this kernel, we'll learn about using numpy and pandas libraries for data manipulation from scratch. Instead of going into theory, we'll take a practical approach.\n",
        "\n",
        "First, we'll understand the syntax and commonly used functions of the numpy and pandas  libraries. Later, we'll work on a real-life data set."
      ]
    },
    {
      "metadata": {
        "_uuid": "eec7f401a1abec1effdc76d4a41f715506d8440e",
        "id": "CNeaarhUz1tD"
      },
      "cell_type": "markdown",
      "source": [
        "## Table of Contents\n",
        "\n",
        "* Important things  about Numpy and Pandas\n",
        "* Starting with Numpy\n",
        "* Starting with Pandas\n",
        "* Exploring an ML Data Set\n",
        "* Building a Random Forest Model\n"
      ]
    },
    {
      "metadata": {
        "_uuid": "dc67438196c8212da3147647f68e32d7a340c3cc",
        "id": "P0ZUY6ymz1tE"
      },
      "cell_type": "markdown",
      "source": [
        "##  Important things about Numpy and Pandas\n",
        "\n",
        "1. The data manipulation capabilities of pandas are built on top of the numpy library. In a way, numpy is a dependency of the pandas library.\n",
        "\n",
        "2. Pandas is best at handling tabular data sets comprising different variable types (integer, float, double, etc.). In addition, the pandas library can also be used to perform even the most naive of tasks such as loading data or doing feature engineering on time series data.\n",
        "\n",
        "3. Numpy is most suitable for performing basic numerical computations such as mean, median, range, etc. Alongside, it also supports the creation of multi-dimensional arrays.\n",
        "\n",
        "Just to give you a flavor of the numpy library, we'll quickly go through its syntax structures and some important commands such as slicing, indexing, concatenation, etc. All these commands will come in handy when using pandas as well. Let's get started!"
      ]
    },
    {
      "metadata": {
        "_uuid": "434b5e1a0edec7cf116bde37af7c5c78ef4031f5",
        "id": "Iq2yvrAkz1tF"
      },
      "cell_type": "markdown",
      "source": [
        "## Starting with Numpy"
      ]
    },
    {
      "metadata": {
        "trusted": true,
        "_uuid": "f61c5387a26181df09231fb1a35509134582a673",
        "id": "ydZk2QHAz1tF"
      },
      "cell_type": "code",
      "source": [
        "#load the library and check its version, just to make sure we aren't using an older version\n",
        "import numpy as np\n",
        "np.__version__"
      ],
      "execution_count": null,
      "outputs": []
    },
    {
      "metadata": {
        "trusted": true,
        "_uuid": "640c3e4217e0aac18e5d08f5f4e7a79418b53e87",
        "id": "2Kc_q63lz1tG"
      },
      "cell_type": "code",
      "source": [
        "#create a list comprising numbers from 0 to 20\n",
        "L = list(range(21))\n",
        "L"
      ],
      "execution_count": null,
      "outputs": []
    },
    {
      "metadata": {
        "trusted": true,
        "_uuid": "0c83051ed83b5ed994415da897970773c506e738",
        "id": "Aay57lXJz1tG"
      },
      "cell_type": "code",
      "source": [
        "#converting integers to string - this style of handling lists is known as list comprehension.\n",
        "[str(c) for c in L]"
      ],
      "execution_count": null,
      "outputs": []
    },
    {
      "metadata": {
        "trusted": true,
        "_uuid": "25cbdc8f21dec1648171a68d63590e737d599bbb",
        "id": "IPef54TLz1tH"
      },
      "cell_type": "code",
      "source": [
        "#List comprehension offers a versatile way to handle list manipulations tasks easily.\n",
        "[type(item) for item in L]"
      ],
      "execution_count": null,
      "outputs": []
    },
    {
      "metadata": {
        "_uuid": "f30e49a166b7915cf5988ab6e4efbeb4ffba907f",
        "id": "ZDKzKDSnz1tH"
      },
      "cell_type": "markdown",
      "source": [
        "### Creating Arrays\n",
        "Numpy arrays are homogeneous in nature, i.e., they comprise one data type (integer, float, double, etc.) unlike lists."
      ]
    },
    {
      "metadata": {
        "trusted": true,
        "_uuid": "8efa078327da20a655cff2f51e5cbcfc6c260b39",
        "id": "JP9IGOE8z1tH"
      },
      "cell_type": "code",
      "source": [
        "#creating arrays\n",
        "np.zeros(10, dtype='int')"
      ],
      "execution_count": null,
      "outputs": []
    },
    {
      "metadata": {
        "trusted": true,
        "_uuid": "491dbee14f739ad40691f14faedb805b288afd67",
        "id": "Wq00mKW6z1tI"
      },
      "cell_type": "code",
      "source": [
        "#creating a 3 row x 8 column matrix\n",
        "np.ones((3,8), dtype=float)"
      ],
      "execution_count": null,
      "outputs": []
    },
    {
      "metadata": {
        "trusted": true,
        "_uuid": "ebbbed68fa88fe38c6f241775d414cce93368efd",
        "id": "GqtRrIKtz1tI"
      },
      "cell_type": "code",
      "source": [
        "#creating a matrix with a predefined value\n",
        "np.full((3,5),1.23)"
      ],
      "execution_count": null,
      "outputs": []
    },
    {
      "metadata": {
        "_cell_guid": "79c7e3d0-c299-4dcb-8224-4455121ee9b0",
        "_uuid": "d629ff2d2480ee46fbb7e2d37f6b5fab8052498a",
        "trusted": true,
        "id": "MSZXo8Dtz1tI"
      },
      "cell_type": "code",
      "source": [
        "#create an array with a set sequence\n",
        "np.arange(0, 20, 2)"
      ],
      "execution_count": null,
      "outputs": []
    },
    {
      "metadata": {
        "trusted": true,
        "_uuid": "a88979f33983ebe263cc56795db39933d86e26be",
        "id": "0LBb1sKzz1tI"
      },
      "cell_type": "code",
      "source": [
        "#create an array of even space between the given range of values\n",
        "np.linspace(0, 1, 5)"
      ],
      "execution_count": null,
      "outputs": []
    },
    {
      "metadata": {
        "trusted": true,
        "_uuid": "e3110cda2e684b5ef5f4e26aa024aa3b5783003a",
        "id": "hcQQ2DU0z1tJ"
      },
      "cell_type": "code",
      "source": [
        "#create a 3x3 array with mean 0 and standard deviation 1 in a given dimension\n",
        "np.random.normal(0, 1, (3,3))"
      ],
      "execution_count": null,
      "outputs": []
    },
    {
      "metadata": {
        "trusted": true,
        "_uuid": "f7c3c74ad49d192c374fe75b05593bebb333c823",
        "id": "EWZ5RCTlz1tJ"
      },
      "cell_type": "code",
      "source": [
        "#create an identity matrix\n",
        "np.eye(5)"
      ],
      "execution_count": null,
      "outputs": []
    },
    {
      "metadata": {
        "trusted": true,
        "_uuid": "1c8aeb9aba7483c4dd3995403c599fbb6a249206",
        "id": "nYc-n5zzz1tJ"
      },
      "cell_type": "code",
      "source": [
        "#set a random seed\n",
        "np.random.seed(0)\n",
        "\n",
        "\n",
        "x1 = np.random.randint(10, size=4) #one dimension\n",
        "x2 = np.random.randint(10, size=(3,5)) #two dimension\n",
        "x3 = np.random.randint(10, size=(3,5,5)) #three dimension\n",
        "\n",
        "\n",
        "print(\"x1 ndim:\", x1.ndim)\n",
        "print(\"x1 shape:\", x1.shape)\n",
        "print(\"x1 size: \", x1.size)"
      ],
      "execution_count": null,
      "outputs": []
    },
    {
      "metadata": {
        "trusted": true,
        "_uuid": "ad91d9573beb56222de965e021faaba6f17af448",
        "id": "K0Ne6ysLz1tJ"
      },
      "cell_type": "code",
      "source": [
        "print(\"x2 ndim:\", x2.ndim)\n",
        "print(\"x2 shape:\", x2.shape)\n",
        "print(\"x2 size: \", x2.size)"
      ],
      "execution_count": null,
      "outputs": []
    },
    {
      "metadata": {
        "trusted": true,
        "_uuid": "74f77217f419b309840aa658f3178b4c26dd2103",
        "id": "H7PH1p2wz1tJ"
      },
      "cell_type": "code",
      "source": [
        "print(\"x3 ndim:\", x3.ndim)\n",
        "print(\"x3 shape:\", x3.shape)\n",
        "print(\"x3 size: \", x3.size)"
      ],
      "execution_count": null,
      "outputs": []
    },
    {
      "metadata": {
        "_uuid": "4153620a2b029e8aafb1208b8ab963779721c8b1",
        "id": "01zJBJEzz1tJ"
      },
      "cell_type": "markdown",
      "source": [
        "### Array Indexing\n",
        "The important thing to remember is that indexing in python starts at zero."
      ]
    },
    {
      "metadata": {
        "trusted": true,
        "_uuid": "96a2620622562d7a952e5a1f9749ebf82910af83",
        "id": "0dL1jP2Yz1tJ"
      },
      "cell_type": "code",
      "source": [
        "x1 = np.array([4, 3, 4, 4, 8, 4])\n",
        "x1"
      ],
      "execution_count": null,
      "outputs": []
    },
    {
      "metadata": {
        "trusted": true,
        "_uuid": "91fb45a877e7e92a5cb11621ce3f5bc798397167",
        "id": "zwiu3gZtz1tJ"
      },
      "cell_type": "code",
      "source": [
        "#assess value to index zero\n",
        "x1[0]"
      ],
      "execution_count": null,
      "outputs": []
    },
    {
      "metadata": {
        "trusted": true,
        "_uuid": "7e63c8f438bbf37afad8701be07dc73ce7d7dc52",
        "id": "5w69jB5Uz1tK"
      },
      "cell_type": "code",
      "source": [
        "#assess fifth value\n",
        "x1[4]"
      ],
      "execution_count": null,
      "outputs": []
    },
    {
      "metadata": {
        "trusted": true,
        "_uuid": "41ca316d65eec617eb6823123ecf9f3045531f78",
        "id": "Yp30fINWz1tK"
      },
      "cell_type": "code",
      "source": [
        "#get the last value\n",
        "x1[-1]"
      ],
      "execution_count": null,
      "outputs": []
    },
    {
      "metadata": {
        "trusted": true,
        "_uuid": "e47bf4a10aa385ec662ee38ee71dc716bc692b19",
        "id": "RrMu0cWbz1tK"
      },
      "cell_type": "code",
      "source": [
        "#get the second last value\n",
        "x1[-2]"
      ],
      "execution_count": null,
      "outputs": []
    },
    {
      "metadata": {
        "trusted": true,
        "_uuid": "784c9a4468061e2db82cac78af67b032ceb97af9",
        "id": "xXYzJLhNz1tK"
      },
      "cell_type": "code",
      "source": [
        "\n",
        "#in a multidimensional array, we need to specify row and column index\n",
        "x2=np.array([[3, 7, 5, 5],[0, 1, 5, 9],[3, 0, 5, 0]])\n",
        "x2"
      ],
      "execution_count": null,
      "outputs": []
    },
    {
      "metadata": {
        "trusted": true,
        "_uuid": "c9d539ea7760f5eab1d7b1083c3eced49b3d3c14",
        "id": "K7EhTuRfz1tK"
      },
      "cell_type": "code",
      "source": [
        "#3rd row and last value from the 3rd column\n",
        "x2[2,-1]"
      ],
      "execution_count": null,
      "outputs": []
    },
    {
      "metadata": {
        "trusted": true,
        "_uuid": "86d775e1ae2a48854d10ba206e4bdbe93353535b",
        "id": "f1rkoXJ7z1tK"
      },
      "cell_type": "code",
      "source": [
        "#replace value at 0,0 index\n",
        "x2[0,0] = 12\n",
        "x2"
      ],
      "execution_count": null,
      "outputs": []
    },
    {
      "metadata": {
        "_uuid": "6188f064e25b1b4a89d18aef2546ab53b65bea5f",
        "id": "208kx4lHz1tK"
      },
      "cell_type": "markdown",
      "source": [
        "### Array Slicing\n",
        "Now, we'll learn to access multiple or a range of elements from an array."
      ]
    },
    {
      "metadata": {
        "trusted": true,
        "_uuid": "2c03e1f92443bec7558aad1f036163d0b2811285",
        "id": "wD1wBUZ9z1tK"
      },
      "cell_type": "code",
      "source": [
        "x = np.arange(20)\n",
        "x"
      ],
      "execution_count": null,
      "outputs": []
    },
    {
      "metadata": {
        "trusted": true,
        "_uuid": "d57caf7ac1e913248b05eb5e66de37cbad81e3bc",
        "id": "wNq0GGiiz1tK"
      },
      "cell_type": "code",
      "source": [
        "#from start to 4th position\n",
        "x[:5]"
      ],
      "execution_count": null,
      "outputs": []
    },
    {
      "metadata": {
        "trusted": true,
        "_uuid": "37b59078e2ae60a2db26c858a617726ac3a47c7d",
        "id": "bsYSn13Lz1tK"
      },
      "cell_type": "code",
      "source": [
        "#from 4th position to end\n",
        "x[4:]"
      ],
      "execution_count": null,
      "outputs": []
    },
    {
      "metadata": {
        "trusted": true,
        "_uuid": "effd9be44fb2930214b77375705e2d8854eaae88",
        "id": "JU-ZgY3Zz1tK"
      },
      "cell_type": "code",
      "source": [
        "#from 4th to 6th position\n",
        "x[4:7]"
      ],
      "execution_count": null,
      "outputs": []
    },
    {
      "metadata": {
        "trusted": true,
        "_uuid": "8bfe4c1400e23f0e5c9912e548173d1f8e95876e",
        "id": "Nep0X5ABz1tK"
      },
      "cell_type": "code",
      "source": [
        "#return elements at even place\n",
        "x[ : : 2]"
      ],
      "execution_count": null,
      "outputs": []
    },
    {
      "metadata": {
        "trusted": true,
        "_uuid": "f74a5d1db771e5346abcd42de89b55d4eed38736",
        "id": "sLakxmJiz1tL"
      },
      "cell_type": "code",
      "source": [
        "#return elements from first position step by two\n",
        "x[1::2]"
      ],
      "execution_count": null,
      "outputs": []
    },
    {
      "metadata": {
        "trusted": true,
        "_uuid": "db5545e6575475b8b1711caa3befde063cff0ab8",
        "id": "m2G3sK6jz1tL"
      },
      "cell_type": "code",
      "source": [
        "#reverse the array\n",
        "x[::-1]"
      ],
      "execution_count": null,
      "outputs": []
    },
    {
      "metadata": {
        "_uuid": "b25bb1eb7dae160573a67adb92add53da27cf126",
        "id": "BqVq43WIz1tL"
      },
      "cell_type": "markdown",
      "source": [
        "### Array Concatenation\n",
        "\n",
        "Many a time, we are required to combine different arrays. So, instead of typing each of their elements manually, you can use array concatenation to handle such tasks easily."
      ]
    },
    {
      "metadata": {
        "trusted": true,
        "_uuid": "85c2477f1dc4ac6ad44a27645ce223c572b26e74",
        "id": "aTpVlHfqz1tL"
      },
      "cell_type": "code",
      "source": [
        "#You can concatenate two or more arrays at once.\n",
        "x = np.array([1, 2, 3])\n",
        "y = np.array([3, 2, 1])\n",
        "z = [21,21,21]\n",
        "np.concatenate([x, y,z])"
      ],
      "execution_count": null,
      "outputs": []
    },
    {
      "metadata": {
        "trusted": true,
        "_uuid": "68ada63aaaafc869d4c992e31e8b89f81f4fed83",
        "id": "xgTrQga_z1tL"
      },
      "cell_type": "code",
      "source": [
        "#You can also use this function to create 2-dimensional arrays.\n",
        "grid = np.array([[1,2,3],[4,5,6]])\n",
        "np.concatenate([grid,grid])"
      ],
      "execution_count": null,
      "outputs": []
    },
    {
      "metadata": {
        "trusted": true,
        "_uuid": "78d015802a71c5298f7a27b133b6543d46b55e09",
        "id": "ULGnBEJTz1tR"
      },
      "cell_type": "code",
      "source": [
        "#Using its axis parameter, you can define row-wise or column-wise matrix\n",
        "np.concatenate([grid,grid],axis=1)"
      ],
      "execution_count": null,
      "outputs": []
    },
    {
      "metadata": {
        "_uuid": "1a750878e2cb5eb484b7b7805e576d71dac74b84",
        "id": "tDmOz3tmz1tR"
      },
      "cell_type": "markdown",
      "source": [
        "what if you are required to combine a 2D array with 1D array? In such situations, we  can use `np.vstack` or `np.hstack` to do the task. Let's see how!"
      ]
    },
    {
      "metadata": {
        "trusted": true,
        "_uuid": "69f7f2d9b06a07d020290e049f35cc3a280f467a",
        "id": "yOa25q7Kz1tR"
      },
      "cell_type": "code",
      "source": [
        "x = np.array([3,4,5])\n",
        "grid = np.array([[1,2,3],[17,18,19]])\n",
        "np.vstack([x,grid])"
      ],
      "execution_count": null,
      "outputs": []
    },
    {
      "metadata": {
        "trusted": true,
        "_uuid": "bbb0e95c13845de265754f0b4201e40b9f5f5aea",
        "id": "4Wkv1_96z1tR"
      },
      "cell_type": "code",
      "source": [
        "#Similarly, you can add an array using np.hstack\n",
        "z = np.array([[9],[9]])\n",
        "np.hstack([grid,z])"
      ],
      "execution_count": null,
      "outputs": []
    },
    {
      "metadata": {
        "_uuid": "834ef60f392fe36a15dd705bc059e8d5d94939c9",
        "id": "ftWeLHEpz1tR"
      },
      "cell_type": "markdown",
      "source": [
        " we can split the arrays based on pre-defined positions. Let's see how!"
      ]
    },
    {
      "metadata": {
        "trusted": true,
        "_uuid": "c0f7bfef83cd93dfa93101baf348f5b6f97b168b",
        "id": "-v0N3Ahsz1tR"
      },
      "cell_type": "code",
      "source": [
        "x = np.arange(10)\n",
        "x"
      ],
      "execution_count": null,
      "outputs": []
    },
    {
      "metadata": {
        "trusted": true,
        "_uuid": "43c1c88378fd80853aa405e6a72e3794439b0801",
        "id": "jqDkdW7xz1tR"
      },
      "cell_type": "code",
      "source": [
        "x1,x2,x3 = np.split(x,[3,6])\n",
        "print(x1,x2,x3)"
      ],
      "execution_count": null,
      "outputs": []
    },
    {
      "metadata": {
        "trusted": true,
        "_uuid": "375e10721d4383c5212e3f5612d0db53e1b670f6",
        "id": "GYSO-2zPz1tR"
      },
      "cell_type": "code",
      "source": [
        "grid = np.arange(16).reshape((4,4))\n",
        "grid"
      ],
      "execution_count": null,
      "outputs": []
    },
    {
      "metadata": {
        "trusted": true,
        "_uuid": "f419d9554b16f2bd60ad0f1b432f1069b0cc2258",
        "id": "HVvSiLPIz1tS"
      },
      "cell_type": "code",
      "source": [
        "upper,lower = np.vsplit(grid,[2])\n",
        "print (upper, lower)"
      ],
      "execution_count": null,
      "outputs": []
    },
    {
      "metadata": {
        "_uuid": "032c02db6e16f0cbb41aca9ac7505abdf908446e",
        "id": "1lcqXgUjz1tS"
      },
      "cell_type": "markdown",
      "source": [
        "In addition, there are several other mathematical functions available in the numpy library such as sum, divide, multiple, abs, power, mod, sin, cos, tan, log, var, min, mean, max, etc. which you can be used to perform basic arithmetic calculations. Feel free to refer to numpy documentation for more information on such functions.\n",
        "\n",
        "Let's move on to pandas now. Make sure you following each line below because it'll help you in doing data manipulation using pandas."
      ]
    },
    {
      "metadata": {
        "_uuid": "2841285a0aa028e26f3ecdd631f487398289b999",
        "id": "qfOWCEttz1tS"
      },
      "cell_type": "markdown",
      "source": [
        "## Let's start with Pandas"
      ]
    },
    {
      "metadata": {
        "trusted": true,
        "_uuid": "d11db42aee1fd51740828fdbd995e2f4ff706744",
        "id": "kFNoC1usz1tS"
      },
      "cell_type": "code",
      "source": [
        "#load library - pd is just an alias.\n",
        "import pandas as pd"
      ],
      "execution_count": null,
      "outputs": []
    },
    {
      "metadata": {
        "trusted": true,
        "_uuid": "db96718d0465251d8b7a93ed11279faacdf895bf",
        "id": "asaH5tTxz1tS"
      },
      "cell_type": "code",
      "source": [
        "#create a data frame - dictionary is used here where keys get converted to column names and values to row values.\n",
        "data = pd.DataFrame({'Country': ['India','Nepal','Pakistan','Bangladesh','Bhutan'],\n",
        "                    'Rank':[11,40,100,130,101]})\n",
        "data"
      ],
      "execution_count": null,
      "outputs": []
    },
    {
      "metadata": {
        "trusted": true,
        "_uuid": "696e181226b30d4a24b2c0d3b43bd2118d6ce116",
        "id": "64xP1iqqz1tS"
      },
      "cell_type": "code",
      "source": [
        "#We can do a quick analysis of any data set using:\n",
        "data.describe()"
      ],
      "execution_count": null,
      "outputs": []
    },
    {
      "metadata": {
        "_uuid": "245d25255be71c341ec9b60ec658eb472248cd6e",
        "id": "kYUMqq55z1tS"
      },
      "cell_type": "markdown",
      "source": [
        "To get the complete information about the data set, we can use`info()` function."
      ]
    },
    {
      "metadata": {
        "trusted": true,
        "_uuid": "3ded04db48f58be95160c0201140677b8cedb431",
        "id": "Z748jttdz1tS"
      },
      "cell_type": "code",
      "source": [
        "data.info()"
      ],
      "execution_count": null,
      "outputs": []
    },
    {
      "metadata": {
        "trusted": true,
        "_uuid": "869a0beb0e03dd449d32e14677bc1417dc0db92d",
        "id": "u7upJOchz1tS"
      },
      "cell_type": "code",
      "source": [
        "#Let's create another data frame.\n",
        "data = pd.DataFrame({'group':['x', 'x', 'x', 'y','y', 'y', 'z', 'z','z'],'ounces':[4, 3, 12, 6, 7.5, 8, 3, 5, 6]})\n",
        "data"
      ],
      "execution_count": null,
      "outputs": []
    },
    {
      "metadata": {
        "trusted": true,
        "_uuid": "5617e8221799088ec967838de20d627b95228b41",
        "id": "ij9xkvbmz1tS"
      },
      "cell_type": "code",
      "source": [
        "#Let's sort the data frame by ounces - inplace = True will make changes to the data\n",
        "data.sort_values(by=['ounces'],ascending=True,inplace=False)"
      ],
      "execution_count": null,
      "outputs": []
    },
    {
      "metadata": {
        "_uuid": "ba8345de323e58a4cb64ca5dd2810e67d7f06ffe",
        "id": "nLBhdv1oz1tS"
      },
      "cell_type": "markdown",
      "source": [
        "We can sort the data by not just one column but multiple columns as well."
      ]
    },
    {
      "metadata": {
        "trusted": true,
        "_uuid": "6ce632048c6a78ec5ae1a44c55b313d7015d0f00",
        "id": "FXK_cplgz1tT"
      },
      "cell_type": "code",
      "source": [
        "data.sort_values(by=['group','ounces'],ascending=[True,False],inplace=False)"
      ],
      "execution_count": null,
      "outputs": []
    },
    {
      "metadata": {
        "trusted": true,
        "_uuid": "cb16447c9075bca45cb4d96425f6cbea1d00a946",
        "id": "PabYYjk1z1tT"
      },
      "cell_type": "code",
      "source": [
        "#create another data with duplicated rows\n",
        "data = pd.DataFrame({'k1':['one']*3 + ['two']*4, 'k2':[3,2,1,3,3,4,4]})\n",
        "data"
      ],
      "execution_count": null,
      "outputs": []
    },
    {
      "metadata": {
        "trusted": true,
        "_uuid": "22c5dee2712cd8d85062d918194b5f6f5d6dc51c",
        "id": "SUWQldHBz1tT"
      },
      "cell_type": "code",
      "source": [
        "#sort values\n",
        "data.sort_values(by='k2')"
      ],
      "execution_count": null,
      "outputs": []
    },
    {
      "metadata": {
        "trusted": true,
        "_uuid": "991bfb11a63c4df99e76697ca39a5b480a336344",
        "id": "y-urGIjhz1tT"
      },
      "cell_type": "code",
      "source": [
        "#remove duplicates - ta da!\n",
        "data.drop_duplicates()"
      ],
      "execution_count": null,
      "outputs": []
    },
    {
      "metadata": {
        "_uuid": "83bff90e9950a448fcd53bf269a9987907e24c77",
        "id": "v_e72o-iz1tT"
      },
      "cell_type": "markdown",
      "source": [
        "we can also remove duplicates based on a particular column. Let's remove duplicate values from the k1 column."
      ]
    },
    {
      "metadata": {
        "trusted": true,
        "_uuid": "4b75babbfd5f6d66f3902c880e347a3abdb502ee",
        "id": "-Z15-dCHz1tT"
      },
      "cell_type": "code",
      "source": [
        "data.drop_duplicates(subset='k1')"
      ],
      "execution_count": null,
      "outputs": []
    },
    {
      "metadata": {
        "_uuid": "aa9570ba235f851856f952a46be8a06c504ecea3",
        "id": "vwdD5Btqz1tT"
      },
      "cell_type": "markdown",
      "source": [
        "Now, we will learn to categorize rows based on a predefined criteria. It happens a lot while data processing where you need to categorize a variable."
      ]
    },
    {
      "metadata": {
        "trusted": true,
        "_uuid": "a363dc22a782a627080b24abd7abff5f203b2fbf",
        "id": "7CzVobsdz1tT"
      },
      "cell_type": "code",
      "source": [
        "data = pd.DataFrame({'food': ['bacon', 'pulled pork', 'bacon', 'Pastrami','corned beef', 'Bacon', 'pastrami', 'honey ham','nova lox'],\n",
        "                 'ounces': [4, 3, 12, 6, 7.5, 8, 3, 5, 6]})\n",
        "data"
      ],
      "execution_count": null,
      "outputs": []
    },
    {
      "metadata": {
        "trusted": true,
        "_uuid": "8d434c82def15b59b98a90ca20d712171a4dd4af",
        "id": "DL0bssMPz1tT"
      },
      "cell_type": "code",
      "source": [
        "meat_to_animal = {\n",
        "'bacon': 'pig',\n",
        "'pulled pork': 'pig',\n",
        "'pastrami': 'cow',\n",
        "'corned beef': 'cow',\n",
        "'honey ham': 'pig',\n",
        "'nova lox': 'salmon'\n",
        "}\n",
        "\n",
        "def meat_2_animal(series):\n",
        "    if series['food'] == 'bacon':\n",
        "        return 'pig'\n",
        "    elif series['food'] == 'pulled pork':\n",
        "        return 'pig'\n",
        "    elif series['food'] == 'pastrami':\n",
        "        return 'cow'\n",
        "    elif series['food'] == 'corned beef':\n",
        "        return 'cow'\n",
        "    elif series['food'] == 'honey ham':\n",
        "        return 'pig'\n",
        "    else:\n",
        "        return 'salmon'\n",
        "\n",
        "\n",
        "#create a new variable\n",
        "data['animal'] = data['food'].map(str.lower).map(meat_to_animal)\n",
        "data"
      ],
      "execution_count": null,
      "outputs": []
    },
    {
      "metadata": {
        "trusted": true,
        "_uuid": "3287adac637fff4b933238d4bf011cd2e55e25f6",
        "id": "csYaaYUQz1tT"
      },
      "cell_type": "code",
      "source": [
        "#another way of doing it is: convert the food values to the lower case and apply the function\n",
        "lower = lambda x: x.lower()\n",
        "data['food'] = data['food'].apply(lower)\n",
        "data['animal2'] = data.apply(meat_2_animal, axis='columns')\n",
        "data"
      ],
      "execution_count": null,
      "outputs": []
    },
    {
      "metadata": {
        "_uuid": "50729214c343a1b47a9574b0a4a7981d8de5d344",
        "id": "-PCMYy1Ez1tT"
      },
      "cell_type": "markdown",
      "source": [
        "Another way to create a new variable is by using the assign function."
      ]
    },
    {
      "metadata": {
        "trusted": true,
        "_uuid": "5e07089b74df40c8bd805a81b225f4d58c893304",
        "id": "7Lw6E0gUz1tU"
      },
      "cell_type": "code",
      "source": [
        "data.assign(new_variable = data['ounces']*14)"
      ],
      "execution_count": null,
      "outputs": []
    },
    {
      "metadata": {
        "_uuid": "02906a65f3cff19198927c2691915a4fb8136701",
        "id": "OrlhzRWLz1tU"
      },
      "cell_type": "markdown",
      "source": [
        "Let's remove the column animal2 from our data frame."
      ]
    },
    {
      "metadata": {
        "trusted": true,
        "_uuid": "897317b28cc6045afbcb4c05c42e7fa7cad3f057",
        "id": "V9BsF_Dhz1tU"
      },
      "cell_type": "code",
      "source": [
        "data.drop('animal2',axis='columns',inplace=True)\n",
        "data"
      ],
      "execution_count": null,
      "outputs": []
    },
    {
      "metadata": {
        "_uuid": "9e9c24eedd2591a73706555f765bd90924dccca8",
        "id": "BMmtezL3z1tU"
      },
      "cell_type": "markdown",
      "source": [
        " A quick method for imputing missing values is by filling the missing value with any random number. Not just missing values, you may find lots of outliers in your data set, which might require replacing."
      ]
    },
    {
      "metadata": {
        "trusted": true,
        "_uuid": "89a929a83fadef090dce3c9bdcc465a4224c36cd",
        "id": "7rrjhjVYz1tU"
      },
      "cell_type": "code",
      "source": [
        "#Series function from pandas are used to create arrays\n",
        "data = pd.Series([1., -999., 2., -999., -1000., 3.])\n",
        "data"
      ],
      "execution_count": null,
      "outputs": []
    },
    {
      "metadata": {
        "trusted": true,
        "_uuid": "fc104e4f26b39c17f0017dc8125fd6172d0f1613",
        "id": "jGiM0ATUz1tU"
      },
      "cell_type": "code",
      "source": [
        "#replace -999 with NaN values\n",
        "data.replace(-999, np.nan,inplace=True)\n",
        "data"
      ],
      "execution_count": null,
      "outputs": []
    },
    {
      "metadata": {
        "trusted": true,
        "_uuid": "21f92062b8732bbf22581eee26969eda9f75d0f7",
        "id": "XVT-PCWJz1tU"
      },
      "cell_type": "code",
      "source": [
        "#We can also replace multiple values at once.\n",
        "data = pd.Series([1., -999., 2., -999., -1000., 3.])\n",
        "data.replace([-999,-1000],np.nan,inplace=True)\n",
        "data"
      ],
      "execution_count": null,
      "outputs": []
    },
    {
      "metadata": {
        "_uuid": "428e4354ba7b0b81ea67b26e2140aa138be0043f",
        "id": "R8uQ3wTuz1tU"
      },
      "cell_type": "markdown",
      "source": [
        "Now, let's learn how to rename column names and axis (row names)."
      ]
    },
    {
      "metadata": {
        "trusted": true,
        "_uuid": "08a8de0a489f87b696ffc93dedb8998cae948380",
        "id": "8aLFOtGvz1tU"
      },
      "cell_type": "code",
      "source": [
        "data = pd.DataFrame(np.arange(12).reshape((3, 4)),index=['Ohio', 'Colorado', 'New York'],columns=['one', 'two', 'three', 'four'])\n",
        "data"
      ],
      "execution_count": null,
      "outputs": []
    },
    {
      "metadata": {
        "trusted": true,
        "_uuid": "46f51484e1aa8e78e4e108c6f54a5ca8b637ad80",
        "id": "LZDRkvNiz1tU"
      },
      "cell_type": "code",
      "source": [
        "#Using rename function\n",
        "data.rename(index = {'Ohio':'SanF'}, columns={'one':'one_p','two':'two_p'},inplace=True)\n",
        "data"
      ],
      "execution_count": null,
      "outputs": []
    },
    {
      "metadata": {
        "trusted": true,
        "_uuid": "aeb1fbd8a9a2ec81ec7d330e3a1e9a0624d7b3ee",
        "id": "fTDugFm8z1tU"
      },
      "cell_type": "code",
      "source": [
        "#You can also use string functions\n",
        "data.rename(index = str.upper, columns=str.title,inplace=True)\n",
        "data"
      ],
      "execution_count": null,
      "outputs": []
    },
    {
      "metadata": {
        "_uuid": "05c66a1d60913f29d38b068438047a82414915d1",
        "id": "d4Ts8q7Pz1tU"
      },
      "cell_type": "markdown",
      "source": [
        "Learn to categorize (bin) continuous variables."
      ]
    },
    {
      "metadata": {
        "trusted": true,
        "_uuid": "60a9719f022a4dba0acb4e576255a518093f8df2",
        "id": "ZbOnZwgQz1tV"
      },
      "cell_type": "code",
      "source": [
        "ages = [20, 22, 25, 27, 21, 23, 37, 31, 61, 45, 41, 32]"
      ],
      "execution_count": null,
      "outputs": []
    },
    {
      "metadata": {
        "_uuid": "ea9d6cd0bf49da4e41c6b1d5e8d3ccbcea88cd4a",
        "id": "Jpvt6jniz1tV"
      },
      "cell_type": "markdown",
      "source": [
        "We'll divide the ages into bins such as 18-25, 26-35,36-60 and 60 and above."
      ]
    },
    {
      "metadata": {
        "trusted": true,
        "_uuid": "8f9d67aef06888523bf32cf167746ddc07f58f68",
        "id": "VYFJ6-QZz1tV"
      },
      "cell_type": "code",
      "source": [
        "#Understand the output - '(' means the value is included in the bin, '[' means the value is excluded\n",
        "bins = [18, 25, 35, 60, 100]\n",
        "cats = pd.cut(ages, bins)\n",
        "cats"
      ],
      "execution_count": null,
      "outputs": []
    },
    {
      "metadata": {
        "trusted": true,
        "_uuid": "ec9f50e662a7f232d48e9fb9090c4d4e63a87f8b",
        "id": "_MQUy1hgz1tV"
      },
      "cell_type": "code",
      "source": [
        "#To include the right bin value, we can do:\n",
        "pd.cut(ages,bins,right=False)"
      ],
      "execution_count": null,
      "outputs": []
    },
    {
      "metadata": {
        "trusted": true,
        "_uuid": "5a2b46925438f915293ef6d1c90ce92eff2ebfaf",
        "id": "2WvKSeuCz1tV"
      },
      "cell_type": "code",
      "source": [
        "#Let's check how many observations fall under each bin\n",
        "pd.value_counts(cats)"
      ],
      "execution_count": null,
      "outputs": []
    },
    {
      "metadata": {
        "_uuid": "2441930dffbbbe9dffdfd8623d80ead34d0ae843",
        "id": "gPFWQ1cwz1tV"
      },
      "cell_type": "markdown",
      "source": [
        "Pass a unique name to each label."
      ]
    },
    {
      "metadata": {
        "trusted": true,
        "_uuid": "5c44df8a94e18043dcac58c765b8d07b6f76f9a2",
        "id": "K3LCpbnEz1tV"
      },
      "cell_type": "code",
      "source": [
        "bin_names = ['Youth', 'YoungAdult', 'MiddleAge', 'Senior']\n",
        "new_cats = pd.cut(ages, bins,labels=bin_names)\n",
        "\n",
        "pd.value_counts(new_cats)"
      ],
      "execution_count": null,
      "outputs": []
    },
    {
      "metadata": {
        "trusted": true,
        "_uuid": "5c257cfeaf57e942f92f4cf671b3371b4f5ec312",
        "id": "RSnjD0Zdz1tV"
      },
      "cell_type": "code",
      "source": [
        "#we can also calculate their cumulative sum\n",
        "pd.value_counts(new_cats).cumsum()"
      ],
      "execution_count": null,
      "outputs": []
    },
    {
      "metadata": {
        "_uuid": "fce238132afc0e4d23666f2aa786a0c9e75542d6",
        "id": "v4Ph9POGz1tV"
      },
      "cell_type": "markdown",
      "source": [
        "Let's learn about grouping data and creating pivots in pandas. It's an immensely important data analysis method which you'd probably have to use on every data set you work with."
      ]
    },
    {
      "metadata": {
        "trusted": true,
        "_uuid": "e483d1e276d21ac02a7711750a7567886b21cc81",
        "id": "F3ecNy1Bz1tV"
      },
      "cell_type": "code",
      "source": [
        "df = pd.DataFrame({'key1' : ['a', 'a', 'b', 'b', 'a'],\n",
        "                   'key2' : ['one', 'two', 'one', 'two', 'one'],\n",
        "                   'data1' : np.random.randn(5),\n",
        "                   'data2' : np.random.randn(5)})\n",
        "df"
      ],
      "execution_count": null,
      "outputs": []
    },
    {
      "metadata": {
        "trusted": true,
        "_uuid": "e7fef384fa832d94ea9b497ff0635acbd350d65b",
        "id": "5f1hxrOOz1tW"
      },
      "cell_type": "code",
      "source": [
        "#calculate the mean of data1 column by key1\n",
        "grouped = df['data1'].groupby(df['key1'])\n",
        "grouped.mean()"
      ],
      "execution_count": null,
      "outputs": []
    },
    {
      "metadata": {
        "_uuid": "3275211d2c4ba3758304efe729991634c1a3a901",
        "id": "goexqrRXz1tW"
      },
      "cell_type": "markdown",
      "source": [
        "let's see how to slice the data frame."
      ]
    },
    {
      "metadata": {
        "trusted": true,
        "_uuid": "f079929681b586dd9cd87eca30c72e90472bb621",
        "id": "oIziD2Vaz1tW"
      },
      "cell_type": "code",
      "source": [
        "dates = pd.date_range('20130101',periods=6)\n",
        "df = pd.DataFrame(np.random.randn(6,4),index=dates,columns=list('ABCD'))\n",
        "df"
      ],
      "execution_count": null,
      "outputs": []
    },
    {
      "metadata": {
        "trusted": true,
        "_uuid": "2f3813386905c1c2ce3dec9d53c40826408cf52c",
        "id": "YdO3w7TQz1tW"
      },
      "cell_type": "code",
      "source": [
        "#get first n rows from the data frame\n",
        "df[:3]"
      ],
      "execution_count": null,
      "outputs": []
    },
    {
      "metadata": {
        "trusted": true,
        "_uuid": "f434980d685c06412d4725235f74d3d05ae19d91",
        "id": "tnqMvmYNz1tW"
      },
      "cell_type": "code",
      "source": [
        "#slice based on date range\n",
        "df['20130101':'20130104']"
      ],
      "execution_count": null,
      "outputs": []
    },
    {
      "metadata": {
        "trusted": true,
        "_uuid": "b20e3c94f928ad1eeda035c392ed9474924e8782",
        "id": "a3IOfgdHz1tW"
      },
      "cell_type": "code",
      "source": [
        "#slicing based on column names\n",
        "df.loc[:,['A','B']]"
      ],
      "execution_count": null,
      "outputs": []
    },
    {
      "metadata": {
        "trusted": true,
        "_uuid": "1dc711199a7842632c627273c936a7c7f8b69d31",
        "id": "_7WksMUfz1tW"
      },
      "cell_type": "code",
      "source": [
        "#slicing based on both row index labels and column names\n",
        "df.loc['20130102':'20130103',['A','B']]"
      ],
      "execution_count": null,
      "outputs": []
    },
    {
      "metadata": {
        "trusted": true,
        "_uuid": "7b59b5b1a4e0bf88741ee96ccc7135cd250d495f",
        "id": "ygLSqsJUz1tW"
      },
      "cell_type": "code",
      "source": [
        "#slicing based on index of columns\n",
        "df.iloc[3] #returns 4th row (index is 3rd)"
      ],
      "execution_count": null,
      "outputs": []
    },
    {
      "metadata": {
        "trusted": true,
        "_uuid": "e4a326150f0e6d4feb7fd0f927e34dd4a3658a2a",
        "id": "rAWr27SCz1tW"
      },
      "cell_type": "code",
      "source": [
        "#returns a specific range of rows\n",
        "df.iloc[2:4, 0:2]"
      ],
      "execution_count": null,
      "outputs": []
    },
    {
      "metadata": {
        "trusted": true,
        "_uuid": "167603b1ae1c335cf702a7fee92c6a66f1473239",
        "id": "Cuzxe5dOz1tW"
      },
      "cell_type": "code",
      "source": [
        "#returns specific rows and columns using lists containing columns or row indexes\n",
        "df.iloc[[1,5],[0,2]]"
      ],
      "execution_count": null,
      "outputs": []
    },
    {
      "metadata": {
        "_uuid": "21a90e2c47256b96d7b2aca7e413526a6447ff4e",
        "id": "zo-Sz8R1z1tW"
      },
      "cell_type": "markdown",
      "source": [
        "Similarly, we can do Boolean indexing based on column values as well. This helps in filtering a data set based on a pre-defined condition."
      ]
    },
    {
      "metadata": {
        "trusted": true,
        "_uuid": "1ec72f62a5cb6089662c5ece077d44b6673b4c01",
        "id": "Ja8g4S7Rz1tW"
      },
      "cell_type": "code",
      "source": [
        "df[df.A > 0.5]"
      ],
      "execution_count": null,
      "outputs": []
    },
    {
      "metadata": {
        "trusted": true,
        "_uuid": "16e1bb4669ccbf990871683138222014aa2cc944",
        "id": "vq6EabHkz1tW"
      },
      "cell_type": "code",
      "source": [
        "#we can copy the data set\n",
        "df2 = df.copy()\n",
        "df2['E']=['one', 'one','two','three','four','three']\n",
        "df2"
      ],
      "execution_count": null,
      "outputs": []
    },
    {
      "metadata": {
        "trusted": true,
        "_uuid": "63283c841a243d5c05cbf2f8e6673bcd7476adb0",
        "id": "nwHkkhMAz1tX"
      },
      "cell_type": "code",
      "source": [
        "#select rows based on column values\n",
        "df2[df2['E'].isin(['two','four'])]"
      ],
      "execution_count": null,
      "outputs": []
    },
    {
      "metadata": {
        "trusted": true,
        "_uuid": "255a4673727ca77660ddacbe85ae41a93b1d6570",
        "id": "7WBWoxZcz1tX"
      },
      "cell_type": "code",
      "source": [
        "#select all rows except those with two and four\n",
        "df2[~df2['E'].isin(['two','four'])]"
      ],
      "execution_count": null,
      "outputs": []
    },
    {
      "metadata": {
        "_uuid": "fdc20b8325258bc4ca17971edfd8ea5ca103d517",
        "id": "cnADnPI7z1tX"
      },
      "cell_type": "markdown",
      "source": [
        "We can also use a query method to select columns based on a criterion."
      ]
    },
    {
      "metadata": {
        "trusted": true,
        "_uuid": "8c608800d2f7e361b6f2a3fefbbeb5c739076396",
        "id": "vL4Xu5Ypz1tX"
      },
      "cell_type": "code",
      "source": [
        "#list all columns where A is greater than C\n",
        "df.query('A > C')"
      ],
      "execution_count": null,
      "outputs": []
    },
    {
      "metadata": {
        "trusted": true,
        "_uuid": "d19e589ecc70509a517867650bedd23c68f2e5df",
        "id": "6xxz0wbkz1tX"
      },
      "cell_type": "code",
      "source": [
        "#using OR condition\n",
        "df.query('A < B | C > A')"
      ],
      "execution_count": null,
      "outputs": []
    },
    {
      "metadata": {
        "_uuid": "4230a706b22b742f08693084a845c376e9e2c17d",
        "id": "lIsfkCBsz1tX"
      },
      "cell_type": "markdown",
      "source": [
        "Pivot tables are extremely useful in analyzing data using a customized tabular format."
      ]
    },
    {
      "metadata": {
        "trusted": true,
        "_uuid": "ffee10ade86fc93e70169253a8ba4d3cbbed75ba",
        "id": "ILh56U32z1tX"
      },
      "cell_type": "code",
      "source": [
        "#create a data frame\n",
        "data = pd.DataFrame({'group': ['a', 'a', 'a', 'b','b', 'b', 'c', 'c','c'],\n",
        "                 'ounces': [4, 3, 12, 6, 7.5, 8, 3, 5, 6]})\n",
        "data"
      ],
      "execution_count": null,
      "outputs": []
    },
    {
      "metadata": {
        "trusted": true,
        "_uuid": "6667f366db17e94d7a17fd09a26e09d5de5d7517",
        "id": "423ZXe9Bz1tX"
      },
      "cell_type": "code",
      "source": [
        "#calculate means of each group\n",
        "data.pivot_table(values='ounces',index='group',aggfunc=np.mean)"
      ],
      "execution_count": null,
      "outputs": []
    },
    {
      "metadata": {
        "trusted": true,
        "_uuid": "b5a4e63857682fef397aa4175ec1c728821c0e93",
        "id": "siQ6BRfCz1tX"
      },
      "cell_type": "code",
      "source": [
        "#calculate count by each group\n",
        "data.pivot_table(values='ounces',index='group',aggfunc='count')"
      ],
      "execution_count": null,
      "outputs": []
    },
    {
      "metadata": {
        "_uuid": "a65bb7331ab0491282537ee87eee0308ef535dc9",
        "id": "nhCOlo4zz1tX"
      },
      "cell_type": "markdown",
      "source": [
        "Up till now, we've become familiar with the basics of pandas library using toy examples. Now, we'll take up a real-life data set and use our newly gained knowledge to explore it.\n",
        "\n",
        "\n",
        "## Exploring ML Data Set\n",
        "\n",
        "We'll work with the popular adult data set.The data set has been taken from UCI Machine Learning Repository. In this data set, the dependent variable is \"target.\" It is a binary classification problem. We need to predict if the salary of a given person is less than or more than 50K."
      ]
    },
    {
      "metadata": {
        "trusted": true,
        "_uuid": "7ff6f55ee089b7645337479eda5a2966ba4debc8",
        "id": "q8vp_RGBz1tX"
      },
      "cell_type": "code",
      "source": [
        "#load the data\n",
        "train  = pd.read_csv(\"../input/train.csv\")\n",
        "test = pd.read_csv(\"../input/test.csv\")"
      ],
      "execution_count": null,
      "outputs": []
    },
    {
      "metadata": {
        "trusted": true,
        "_uuid": "cb54973792e5d3068482bfda160f3f1b5e51e43d",
        "id": "A3kqq77uz1tX"
      },
      "cell_type": "code",
      "source": [
        "#check data set\n",
        "train.info()"
      ],
      "execution_count": null,
      "outputs": []
    },
    {
      "metadata": {
        "trusted": true,
        "_uuid": "234787bc368062088fbb26460f774cbbc581ed67",
        "id": "Q-pUajsgz1tX"
      },
      "cell_type": "code",
      "source": [
        "test.info()"
      ],
      "execution_count": null,
      "outputs": []
    },
    {
      "metadata": {
        "trusted": true,
        "_uuid": "b8b721cbd63887a97c4dd27e76fae6a53c02b868",
        "id": "VBJeqZQ8z1tY"
      },
      "cell_type": "code",
      "source": [
        "print (\"The train data has\",train.shape)\n",
        "print (\"The test data has\",test.shape)"
      ],
      "execution_count": null,
      "outputs": []
    },
    {
      "metadata": {
        "trusted": true,
        "_uuid": "ff1cbda2f399c5728bba76bb6c7dfeb4c397c2e4",
        "id": "mbNUzsOEz1tY"
      },
      "cell_type": "code",
      "source": [
        "#Let have a glimpse of the data set\n",
        "train.head()"
      ],
      "execution_count": null,
      "outputs": []
    },
    {
      "metadata": {
        "_uuid": "d60d279aaf8207ac7f69163bedb126aab84a51b1",
        "id": "j9ypVSEXz1tY"
      },
      "cell_type": "markdown",
      "source": [
        "Now, let's check the missing values (if present) in this data."
      ]
    },
    {
      "metadata": {
        "trusted": true,
        "_uuid": "9434b0ee53a58474c9b0b66cf03334af1c34f1bf",
        "id": "HcF4-XLdz1tY"
      },
      "cell_type": "code",
      "source": [
        "nans = train.shape[0] - train.dropna().shape[0]\n",
        "print (\"%d rows have missing values in the train data\" %nans)\n",
        "\n",
        "nand = test.shape[0] - test.dropna().shape[0]\n",
        "print (\"%d rows have missing values in the test data\" %nand)"
      ],
      "execution_count": null,
      "outputs": []
    },
    {
      "metadata": {
        "_uuid": "5e2ce7a91ed458aa5ae78b4be4ffbdc083d9b511",
        "id": "6U-WGRBUz1tY"
      },
      "cell_type": "markdown",
      "source": [
        "We should be more curious to know which columns have missing values."
      ]
    },
    {
      "metadata": {
        "trusted": true,
        "_uuid": "79da604c442e6bbc8977ba6102d9dc10a57d8b41",
        "id": "El-UYEuKz1tY"
      },
      "cell_type": "code",
      "source": [
        "#only 3 columns have missing values\n",
        "train.isnull().sum()"
      ],
      "execution_count": null,
      "outputs": []
    },
    {
      "metadata": {
        "_uuid": "0041a63eb4edd3028508f16c86fa6b9f3c3d5e62",
        "id": "zLt-1u8Dz1tY"
      },
      "cell_type": "markdown",
      "source": [
        "Let's count the number of unique values from character variables."
      ]
    },
    {
      "metadata": {
        "trusted": true,
        "_uuid": "9815f7b28620187e5805257e1e0c1cb355503172",
        "id": "TknAvFxIz1tY"
      },
      "cell_type": "code",
      "source": [
        "cat = train.select_dtypes(include=['O'])\n",
        "cat.apply(pd.Series.nunique)"
      ],
      "execution_count": null,
      "outputs": []
    },
    {
      "metadata": {
        "_uuid": "07e9f5522af046608b7504f3f2e5b8b8a281b172",
        "id": "cXGhXjNuz1tY"
      },
      "cell_type": "markdown",
      "source": [
        "Since missing values are found in all 3 character variables, let's impute these missing values with their respective modes."
      ]
    },
    {
      "metadata": {
        "trusted": true,
        "_uuid": "1c34fa277292e1db30147c635253a20c6cfb5cc8",
        "id": "U7jSmObYz1tY"
      },
      "cell_type": "code",
      "source": [
        "#Education\n",
        "train.workclass.value_counts(sort=True)\n",
        "train.workclass.fillna('Private',inplace=True)\n",
        "\n",
        "\n",
        "#Occupation\n",
        "train.occupation.value_counts(sort=True)\n",
        "train.occupation.fillna('Prof-specialty',inplace=True)\n",
        "\n",
        "\n",
        "#Native Country\n",
        "train['native.country'].value_counts(sort=True)\n",
        "train['native.country'].fillna('United-States',inplace=True)"
      ],
      "execution_count": null,
      "outputs": []
    },
    {
      "metadata": {
        "_uuid": "6ab803038a2f7b3cb00f01b562d511770a52850c",
        "id": "8QG2qeYlz1tY"
      },
      "cell_type": "markdown",
      "source": [
        "Let's check again if there are any missing values left."
      ]
    },
    {
      "metadata": {
        "trusted": true,
        "_uuid": "e42b852e82fe0379831c2767b7829e6294dff50a",
        "id": "6QLK3DgQz1tZ"
      },
      "cell_type": "code",
      "source": [
        "train.isnull().sum()"
      ],
      "execution_count": null,
      "outputs": []
    },
    {
      "metadata": {
        "_uuid": "dd0672431b81a60b1b38b3e333f97a32f079bc98",
        "id": "u1bgbQhuz1tZ"
      },
      "cell_type": "markdown",
      "source": [
        "Now, we'll check the target variable to investigate if this data is imbalanced or not."
      ]
    },
    {
      "metadata": {
        "trusted": true,
        "_uuid": "746e4d7d65385d72c75c0063228bd725833e2d6d",
        "id": "a5Pz8IF5z1tZ"
      },
      "cell_type": "code",
      "source": [
        "#check proportion of target variable\n",
        "train.target.value_counts()/train.shape[0]"
      ],
      "execution_count": null,
      "outputs": []
    },
    {
      "metadata": {
        "_uuid": "b718d2a18341a17b299d2185ace72dfb5e1d5053",
        "id": "jZUvaBi3z1tb"
      },
      "cell_type": "markdown",
      "source": [
        " Let's create a cross tab of the target variable with education. With this, we'll try to understand the influence of education on the target variable."
      ]
    },
    {
      "metadata": {
        "trusted": true,
        "_uuid": "2e697b3e537288e499076806870b9dd3d31af500",
        "id": "yPwLtW-Jz1tb"
      },
      "cell_type": "code",
      "source": [
        "pd.crosstab(train.education, train.target,margins=True)/train.shape[0]"
      ],
      "execution_count": null,
      "outputs": []
    },
    {
      "metadata": {
        "_uuid": "569cef253081ad31eedc96227e08f5df6fdfd712",
        "id": "pNpojKI7z1tb"
      },
      "cell_type": "markdown",
      "source": [
        "Label encoding this variable will return output as: red = 2 green = 0 blue = 1 pink = 3"
      ]
    },
    {
      "metadata": {
        "trusted": true,
        "_uuid": "993be5b491d55d1841b8f7133a1945e300047690",
        "id": "YG3hmPx2z1tc"
      },
      "cell_type": "code",
      "source": [
        "#load sklearn and encode all object type variables\n",
        "from sklearn import preprocessing\n",
        "\n",
        "for x in train.columns:\n",
        "    if train[x].dtype == 'object':\n",
        "        lbl = preprocessing.LabelEncoder()\n",
        "        lbl.fit(list(train[x].values))\n",
        "        train[x] = lbl.transform(list(train[x].values))"
      ],
      "execution_count": null,
      "outputs": []
    },
    {
      "metadata": {
        "_uuid": "25cee7333d078c84551aa0c051e9b41905a92b93",
        "id": "-BJn-NIDz1tc"
      },
      "cell_type": "markdown",
      "source": [
        "Let's check the changes applied to the data set."
      ]
    },
    {
      "metadata": {
        "trusted": true,
        "_uuid": "dc64f2d69ad884b8b1fc231859f9eb3fd70ebf2c",
        "id": "pcf_AD9hz1tc"
      },
      "cell_type": "code",
      "source": [
        "train.head()"
      ],
      "execution_count": null,
      "outputs": []
    },
    {
      "metadata": {
        "_uuid": "38569f1c12db7cee25d0d49701022a90f71bbdf3",
        "id": "eEif0kiOz1tc"
      },
      "cell_type": "markdown",
      "source": [
        "As we can see, all the variables have been converted to numeric, including the target variable."
      ]
    },
    {
      "metadata": {
        "trusted": true,
        "_uuid": "ef52e18b854573dd5b5816bcf635bfd17928e3c8",
        "id": "2NdmLHTBz1tc"
      },
      "cell_type": "code",
      "source": [
        "#<50K = 0 and >50K = 1\n",
        "train.target.value_counts()"
      ],
      "execution_count": null,
      "outputs": []
    },
    {
      "metadata": {
        "_uuid": "fd6b8f4bbffbdf189e22624f7bc310b30682a5db",
        "id": "prZaboyuz1tc"
      },
      "cell_type": "markdown",
      "source": [
        "## Building a Random Forest Model\n",
        "\n",
        "Let's create a random forest model and check the model's accuracy."
      ]
    },
    {
      "metadata": {
        "trusted": true,
        "_uuid": "4726a27b4a979a1effdcebab9144e1e8da0e530c",
        "id": "_sTcUBmaz1tc"
      },
      "cell_type": "code",
      "source": [
        "from sklearn.model_selection import train_test_split\n",
        "from sklearn.ensemble import RandomForestClassifier\n",
        "from sklearn.model_selection import cross_val_score\n",
        "from sklearn.metrics import accuracy_score\n",
        "\n",
        "y = train['target']\n",
        "del train['target']\n",
        "\n",
        "X = train\n",
        "X_train,X_test,y_train,y_test = train_test_split(X,y,test_size=0.3,random_state=1,stratify=y)\n",
        "\n",
        "#train the RF classifier\n",
        "clf = RandomForestClassifier(n_estimators = 500, max_depth = 6)\n",
        "clf.fit(X_train,y_train)\n",
        "clf.predict(X_test)"
      ],
      "execution_count": null,
      "outputs": []
    },
    {
      "metadata": {
        "_uuid": "ef03051933986074267bb81823966f15f140c473",
        "id": "Hc2K86umz1tc"
      },
      "cell_type": "markdown",
      "source": [
        "Now, let's make prediction on the test set and check the model's accuracy."
      ]
    },
    {
      "metadata": {
        "trusted": true,
        "_uuid": "25907ae7129dcc5ddee7df1823f55c8fa37550a4",
        "id": "32vBM42Oz1td"
      },
      "cell_type": "code",
      "source": [
        "#make prediction and check model's accuracy\n",
        "prediction = clf.predict(X_test)\n",
        "acc =  accuracy_score(np.array(y_test),prediction)\n",
        "print ('The accuracy of Random Forest is {}'.format(acc))"
      ],
      "execution_count": null,
      "outputs": []
    },
    {
      "metadata": {
        "_uuid": "0088882111e65d3806216c12dbc05e375dab0dbd",
        "id": "65XLnwRGz1td"
      },
      "cell_type": "markdown",
      "source": [
        "**Hurrah! Our learning algorithm gave 85% accuracy. **"
      ]
    },
    {
      "metadata": {
        "_uuid": "42e1b185e750104f20256d4dd15110a70c904059",
        "id": "Qjw3robxz1td"
      },
      "cell_type": "markdown",
      "source": [
        "### Summary\n",
        "\n",
        "This kernel is meant to help anyone who's starting with python to get a taste of data manipulation and a little bit of machine learning using python.\n",
        "\n",
        "To dive deeper in pandas, check its documentation and start exploring. If you get stuck anywhere, you can drop your questions or suggestions in Comments below. Hope you found this kernel useful."
      ]
    }
  ],
  "metadata": {
    "kernelspec": {
      "display_name": "Python 3",
      "language": "python",
      "name": "python3"
    },
    "language_info": {
      "name": "python",
      "version": "3.6.6",
      "mimetype": "text/x-python",
      "codemirror_mode": {
        "name": "ipython",
        "version": 3
      },
      "pygments_lexer": "ipython3",
      "nbconvert_exporter": "python",
      "file_extension": ".py"
    },
    "colab": {
      "provenance": [],
      "include_colab_link": true
    }
  },
  "nbformat": 4,
  "nbformat_minor": 0
}